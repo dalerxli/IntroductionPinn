{
 "cells": [
  {
   "cell_type": "markdown",
   "id": "9ac66f44",
   "metadata": {},
   "source": [
    "# Introducction to PINN's : First approximation "
   ]
  },
  {
   "cell_type": "markdown",
   "id": "48c8d75e",
   "metadata": {},
   "source": [
    "description to pinn's: \n",
    "* solve \n",
    "* discovery"
   ]
  },
  {
   "cell_type": "markdown",
   "id": "a1221345",
   "metadata": {},
   "source": [
    "# Traditional approach to solve differential equation. \n"
   ]
  },
  {
   "cell_type": "markdown",
   "id": "1fc00803",
   "metadata": {},
   "source": [
    "* taylor \n",
    "* runge kutta\n",
    "* multiples pasos \n",
    "* ... (compare stability (?))\n",
    "\n"
   ]
  },
  {
   "cell_type": "markdown",
   "id": "cf267010",
   "metadata": {},
   "source": [
    "# take a simple example: harmonic oscillator "
   ]
  },
  {
   "cell_type": "markdown",
   "id": "f26315d3",
   "metadata": {},
   "source": [
    "# generator data "
   ]
  },
  {
   "cell_type": "markdown",
   "id": "599648df",
   "metadata": {},
   "source": [
    "# apply traditional methods \n",
    "\n",
    "* **do this mainly to measure execution times**\n",
    "\n",
    "* **measure error, interpolation and inference**\n"
   ]
  },
  {
   "cell_type": "markdown",
   "id": "1e5fe4c7",
   "metadata": {},
   "source": [
    "# NN aproach to interpolate data "
   ]
  },
  {
   "cell_type": "markdown",
   "id": "1fc05b71",
   "metadata": {},
   "source": [
    "# PINN approach solve "
   ]
  },
  {
   "attachments": {},
   "cell_type": "markdown",
   "id": "675491b7",
   "metadata": {},
   "source": [
    "- make train and test set \n",
    "- define arquitecture \n",
    "- define optimizer \n",
    "\n",
    "compare error and time with traditional methods."
   ]
  },
  {
   "cell_type": "markdown",
   "id": "f57113af",
   "metadata": {},
   "source": [
    "# PINN approach discovery "
   ]
  },
  {
   "cell_type": "markdown",
   "id": "5e73620e",
   "metadata": {},
   "source": [
    "# Define funtion for graph train of neural networks "
   ]
  },
  {
   "cell_type": "markdown",
   "id": "bb5d7b54",
   "metadata": {},
   "source": [
    "# Conclusion \n"
   ]
  },
  {
   "cell_type": "code",
   "execution_count": null,
   "id": "5039d49d",
   "metadata": {},
   "outputs": [],
   "source": []
  }
 ],
 "metadata": {
  "kernelspec": {
   "display_name": "Python 3 (ipykernel)",
   "language": "python",
   "name": "python3"
  },
  "language_info": {
   "codemirror_mode": {
    "name": "ipython",
    "version": 3
   },
   "file_extension": ".py",
   "mimetype": "text/x-python",
   "name": "python",
   "nbconvert_exporter": "python",
   "pygments_lexer": "ipython3",
   "version": "3.7.11"
  }
 },
 "nbformat": 4,
 "nbformat_minor": 5
}
