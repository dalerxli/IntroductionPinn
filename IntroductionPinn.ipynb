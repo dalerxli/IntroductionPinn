{
 "cells": [
  {
   "cell_type": "markdown",
   "id": "da1f7df5",
   "metadata": {},
   "source": [
    "# Introducction to PINN's : First approximation "
   ]
  },
  {
   "cell_type": "markdown",
   "id": "28d81f74",
   "metadata": {},
   "source": [
    "Las redes neuronales (NN) tienen una gran capacidad predictiva sobre todo por su capacidad de encontrar relaciones no lineales entre los datos de entrada y salida, pero muchas veces para su aplicacion en ciencia su uso carece de intepretabilidad. En escencia las NN actuan como una caja nega, en donde las relaciones que desarrolla en la fase de entrenamiento son dificiles(por no decir imposible)de entender por los humanos.\n",
    "\n",
    "Una posible solución para el problema anterior es agregar un termino extra a la función de error, a este termino lo denominaremos \"regularizacion fisica\" y principalmente actua como una regularización. Como es sabido las regularizaciones sirven para evitar el sobreajuste y mejorar la capacidad de generalizacion de la NN. Dos de las regularizaciones más usuales son la Lazzo (L1) y Ridge (L1). Ambas regularizaciones consideran termino $\\lambda$ multiplicado por el termino regularizador, para un mismo $\\lambda$ la regularización L1, para la actualizacion de los pesos, considera en menor medida los outliers, en otras palabras le da más importancia a los valores que tengan menor varianza. Por otro lado la regularizacion L2, de manera contraria a la L1, considera en mayor medida los outliers. \n",
    "\n",
    "Teniendo en mente la idea de regularización y considerando un contexto donde se tenga datos que represente algun fenomeno fisico del cual se tenga conocimiento a priori, es valido preguntarse ¿es posible agregar algun termino de penalización que priorice las soluciones fisicamente posible, y asi ayude a la red a una mejor generalización? Bueno, como es de esperarse esta pregunta ya fue respondida por los autores del paper “Physics-informed neural networks: A deep learning framework for solving forward and inverse problems involving nonlinear partial differential equations” en el cual aplican el enfoque antes explicado y demuestran cual es el termino que ayuda a la red neuronal a respetar las leyes de la física subyacen al fenómeno que se esta estudiando.  \n"
   ]
  },
  {
   "cell_type": "markdown",
   "id": "08ff506d",
   "metadata": {},
   "source": [
    "# A bit of context."
   ]
  },
  {
   "cell_type": "markdown",
   "id": "23287da5",
   "metadata": {},
   "source": [
    "En el la investigacion antes expuesta se presentan las redes neuronales restringidas fisicamente: redes neuronales que son entrenadas para resolver tareas de aprendizaje supervisado respetando cualquier ley física que este dentro de la ecuación diferencial que describe la dinamica del sistema estudiado.\n",
    "\n",
    "Los autores presentan dos tipo de problemas que se pueden resolver mediante este enfoque.\n",
    "\n",
    "* Inferir la solución para PDE's.  \n",
    "* Descubrimiento de PDE's. \n",
    "\n",
    "Las redes neuronales resultantes forman una nueva clase de aproximadores de funciones universales eficientes en datos que codifican naturalmente cualquier ley física subyacente como información previa [1]. \n",
    "\n",
    "En este documento tomare como ejemplo el oscilador armónico amortiguado ya que al tener una solucion exacta me posibilitara la comparación de resultadado para distintos enfoques. Principalmente compararé el error y tiempo de computo de los siguientes enfoques: \n",
    "\n",
    "* Tecnicas tradicionales para resolver ecuaciones diferenciales.\n",
    "* Red neuronal sin restricciones fisicas. \n",
    "* PINN \n",
    " \n",
    "Y finalmente, aplicare una PINN para encontrar los parametros de la ecuación diferencial del oscilador arminico amortiguado. \n",
    "Ante que todo, debo agradecer a Ben Moseley por su blog: So, what is a physics-informed neural network?  en donde obtube la mayor parte de la información para la elaboración de este documento. "
   ]
  },
  {
   "cell_type": "markdown",
   "id": "2da987f0",
   "metadata": {},
   "source": [
    "# Traditional approach to solve differential equation. \n"
   ]
  },
  {
   "cell_type": "markdown",
   "id": "ef23b56c",
   "metadata": {},
   "source": [
    "* taylor \n",
    "* runge kutta\n",
    "* multiples pasos \n",
    "* ... (compare stability (?))\n",
    "\n"
   ]
  },
  {
   "cell_type": "markdown",
   "id": "8533e520",
   "metadata": {},
   "source": [
    "# take a simple example: harmonic oscillator "
   ]
  },
  {
   "cell_type": "markdown",
   "id": "e9d6674b",
   "metadata": {},
   "source": [
    "# generator data "
   ]
  },
  {
   "cell_type": "markdown",
   "id": "d9eaafa1",
   "metadata": {},
   "source": [
    "# apply traditional methods \n",
    "\n",
    "* **do this mainly to measure execution times**\n",
    "\n",
    "* **measure error, interpolation and inference**\n"
   ]
  },
  {
   "cell_type": "markdown",
   "id": "5452d813",
   "metadata": {},
   "source": [
    "# NN aproach to interpolate data \n",
    "\n",
    "overffiting "
   ]
  },
  {
   "cell_type": "markdown",
   "id": "3aaa2733",
   "metadata": {},
   "source": [
    "# PINN approach solve "
   ]
  },
  {
   "cell_type": "markdown",
   "id": "a45f33d3",
   "metadata": {},
   "source": [
    "- make train and test set \n",
    "- define arquitecture \n",
    "- define optimizer \n",
    "\n",
    "compare error and time with traditional methods."
   ]
  },
  {
   "cell_type": "markdown",
   "id": "50e80da7",
   "metadata": {},
   "source": [
    "# PINN approach discovery "
   ]
  },
  {
   "cell_type": "markdown",
   "id": "74ba66e6",
   "metadata": {},
   "source": [
    "# Define funtion for graph train of neural networks "
   ]
  },
  {
   "cell_type": "markdown",
   "id": "229deb0a",
   "metadata": {},
   "source": [
    "# Conclusion \n"
   ]
  },
  {
   "cell_type": "markdown",
   "id": "b608ad40",
   "metadata": {},
   "source": [
    "# Referencias: \n",
    "\n",
    "[1] Raissi, M., Perdikaris, P. y Karniadakis, GE (2019). Redes neuronales informadas por la física: un marco de aprendizaje profundo para resolver problemas directos e inversos que involucran ecuaciones diferenciales parciales no lineales . Revista de Física Computacional.\n",
    "\n",
    "[2] Problema de física inspirado en esta publicación de blog: https://beltoforion.de/en/harmonic_oscillator/\n",
    "\n",
    "\n"
   ]
  },
  {
   "cell_type": "code",
   "execution_count": null,
   "id": "9e03d20c",
   "metadata": {},
   "outputs": [],
   "source": []
  }
 ],
 "metadata": {
  "kernelspec": {
   "display_name": "Python 3 (ipykernel)",
   "language": "python",
   "name": "python3"
  },
  "language_info": {
   "codemirror_mode": {
    "name": "ipython",
    "version": 3
   },
   "file_extension": ".py",
   "mimetype": "text/x-python",
   "name": "python",
   "nbconvert_exporter": "python",
   "pygments_lexer": "ipython3",
   "version": "3.7.11"
  }
 },
 "nbformat": 4,
 "nbformat_minor": 5
}
