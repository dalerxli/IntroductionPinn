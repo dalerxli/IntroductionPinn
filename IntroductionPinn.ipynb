{
 "cells": [
  {
   "cell_type": "markdown",
   "id": "da1f7df5",
   "metadata": {},
   "source": [
    "# Introducction to PINN's : First approximation "
   ]
  },
  {
   "cell_type": "markdown",
   "id": "28d81f74",
   "metadata": {},
   "source": [
    "description to pinn's: \n",
    "* solve \n",
    "* discovery\n",
    "\n",
    "entre a probar "
   ]
  },
  {
   "cell_type": "markdown",
   "id": "2da987f0",
   "metadata": {},
   "source": [
    "# Traditional approach to solve differential equation. \n"
   ]
  },
  {
   "cell_type": "markdown",
   "id": "ef23b56c",
   "metadata": {},
   "source": [
    "* taylor \n",
    "* runge kutta\n",
    "* multiples pasos \n",
    "* ... (compare stability (?))\n",
    "\n"
   ]
  },
  {
   "cell_type": "markdown",
   "id": "8533e520",
   "metadata": {},
   "source": [
    "# take a simple example: harmonic oscillator "
   ]
  },
  {
   "cell_type": "markdown",
   "id": "e9d6674b",
   "metadata": {},
   "source": [
    "# generator data "
   ]
  },
  {
   "cell_type": "markdown",
   "id": "d9eaafa1",
   "metadata": {},
   "source": [
    "# apply traditional methods \n",
    "\n",
    "* **do this mainly to measure execution times**\n",
    "\n",
    "* **measure error, interpolation and inference**\n"
   ]
  },
  {
   "cell_type": "markdown",
   "id": "5452d813",
   "metadata": {},
   "source": [
    "# NN aproach to interpolate data "
   ]
  },
  {
   "cell_type": "markdown",
   "id": "3aaa2733",
   "metadata": {},
   "source": [
    "# PINN approach solve "
   ]
  },
  {
   "attachments": {},
   "cell_type": "markdown",
   "id": "a45f33d3",
   "metadata": {},
   "source": [
    "- make train and test set \n",
    "- define arquitecture \n",
    "- define optimizer \n",
    "\n",
    "compare error and time with traditional methods."
   ]
  },
  {
   "cell_type": "markdown",
   "id": "50e80da7",
   "metadata": {},
   "source": [
    "# PINN approach discovery "
   ]
  },
  {
   "cell_type": "markdown",
   "id": "74ba66e6",
   "metadata": {},
   "source": [
    "# Define funtion for graph train of neural networks "
   ]
  },
  {
   "cell_type": "markdown",
   "id": "229deb0a",
   "metadata": {},
   "source": [
    "# Conclusion \n"
   ]
  },
  {
   "cell_type": "code",
   "execution_count": null,
   "id": "d13dccd0",
   "metadata": {},
   "outputs": [],
   "source": []
  }
 ],
 "metadata": {
  "kernelspec": {
   "display_name": "Python 3 (ipykernel)",
   "language": "python",
   "name": "python3"
  },
  "language_info": {
   "codemirror_mode": {
    "name": "ipython",
    "version": 3
   },
   "file_extension": ".py",
   "mimetype": "text/x-python",
   "name": "python",
   "nbconvert_exporter": "python",
   "pygments_lexer": "ipython3",
   "version": "3.7.11"
  }
 },
 "nbformat": 4,
 "nbformat_minor": 5
}
