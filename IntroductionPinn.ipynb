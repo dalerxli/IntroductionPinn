{
 "cells": [
  {
   "cell_type": "markdown",
   "id": "da1f7df5",
   "metadata": {},
   "source": [
    "# Introducction to PINN's : First approximation "
   ]
  },
  {
   "cell_type": "markdown",
   "id": "28d81f74",
   "metadata": {},
   "source": [
    "Las redes neuronales (NN) tienen una gran capacidad predictiva sobre todo por su capacidad de encontrar relaciones no lineales entre los datos de entrada y salida, pero muchas veces para su aplicacion en ciencia su uso carece de intepretabilidad. En escencia las NN actuan como una caja nega, en donde las relaciones que desarrolla en la fase de entrenamiento son dificiles(por no decir imposible)de entender por los humanos.\n",
    "\n",
    "Una posible solución para el problema anterior es agregar un termino extra a la función de error, a este termino lo denominaremos \"regularizacion fisica\" y principalmente actua como una regularización. Como es sabido las regularizaciones sirven para evitar el sobreajuste y mejorar la capacidad de generalizacion de la NN. Dos de las regularizaciones más usuales son la Lazzo (L1) y Ridge (L1). Ambas regularizaciones consideran termino $\\lambda$ multiplicado por el termino regularizador, para un mismo $\\lambda$ la regularización L1, para la actualizacion de los pesos, considera en menor medida los outliers, en otras palabras le da más importancia a los valores que tengan menor varianza. Por otro lado la regularizacion L2, de manera contraria a la L1, considera en mayor medida los outliers. \n",
    "\n",
    "Teniendo en mente la idea de regularización y considerando un contexto donde se tenga datos que represente algun fenomeno fisico del cual se tenga conocimiento a priori, es valido preguntarse ¿es posible agregar algun termino de penalización que priorice las soluciones fisicamente posible, y asi ayude a la red a una mejor generalización? Bueno, como es de esperarse yo no respondi esta pregunta pero si lo hacen los autores del paper “Physics-informed neural networks: A deep learning framework for solving forward and inverse problems involving nonlinear partial differential equations” en el cual aplican el enfoque antes explicado y demuestran que si hay un termino que ayuda a la red neuronal respetar cualquier ley de la física subyacente que gobierna el fenómeno que se esta estudiando.  \n"
   ]
  },
  {
   "cell_type": "markdown",
   "id": "dbd9a114",
   "metadata": {},
   "source": [
    "# A BIT OF THEORY"
   ]
  },
  {
   "cell_type": "markdown",
   "id": "e6e06000",
   "metadata": {},
   "source": [
    "description to pinn's: \n",
    "\n",
    "* solve \n",
    "* discovery\n"
   ]
  },
  {
   "cell_type": "markdown",
   "id": "2da987f0",
   "metadata": {},
   "source": [
    "# Traditional approach to solve differential equation. \n"
   ]
  },
  {
   "cell_type": "markdown",
   "id": "ef23b56c",
   "metadata": {},
   "source": [
    "* taylor \n",
    "* runge kutta\n",
    "* multiples pasos \n",
    "* ... (compare stability (?))\n",
    "\n"
   ]
  },
  {
   "cell_type": "markdown",
   "id": "8533e520",
   "metadata": {},
   "source": [
    "# take a simple example: harmonic oscillator "
   ]
  },
  {
   "cell_type": "markdown",
   "id": "e9d6674b",
   "metadata": {},
   "source": [
    "# generator data "
   ]
  },
  {
   "cell_type": "markdown",
   "id": "d9eaafa1",
   "metadata": {},
   "source": [
    "# apply traditional methods \n",
    "\n",
    "* **do this mainly to measure execution times**\n",
    "\n",
    "* **measure error, interpolation and inference**\n"
   ]
  },
  {
   "cell_type": "markdown",
   "id": "5452d813",
   "metadata": {},
   "source": [
    "# NN aproach to interpolate data \n",
    "\n",
    "overffiting "
   ]
  },
  {
   "cell_type": "markdown",
   "id": "3aaa2733",
   "metadata": {},
   "source": [
    "# PINN approach solve "
   ]
  },
  {
   "cell_type": "markdown",
   "id": "a45f33d3",
   "metadata": {},
   "source": [
    "- make train and test set \n",
    "- define arquitecture \n",
    "- define optimizer \n",
    "\n",
    "compare error and time with traditional methods."
   ]
  },
  {
   "cell_type": "markdown",
   "id": "50e80da7",
   "metadata": {},
   "source": [
    "# PINN approach discovery "
   ]
  },
  {
   "cell_type": "markdown",
   "id": "74ba66e6",
   "metadata": {},
   "source": [
    "# Define funtion for graph train of neural networks "
   ]
  },
  {
   "cell_type": "markdown",
   "id": "229deb0a",
   "metadata": {},
   "source": [
    "# Conclusion \n"
   ]
  },
  {
   "cell_type": "code",
   "execution_count": null,
   "id": "d13dccd0",
   "metadata": {},
   "outputs": [],
   "source": []
  }
 ],
 "metadata": {
  "kernelspec": {
   "display_name": "Python 3 (ipykernel)",
   "language": "python",
   "name": "python3"
  },
  "language_info": {
   "codemirror_mode": {
    "name": "ipython",
    "version": 3
   },
   "file_extension": ".py",
   "mimetype": "text/x-python",
   "name": "python",
   "nbconvert_exporter": "python",
   "pygments_lexer": "ipython3",
   "version": "3.7.11"
  }
 },
 "nbformat": 4,
 "nbformat_minor": 5
}
